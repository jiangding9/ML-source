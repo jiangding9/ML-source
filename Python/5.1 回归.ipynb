{
 "cells": [
  {
   "cell_type": "code",
   "execution_count": 3,
   "id": "a25f930e",
   "metadata": {},
   "outputs": [
    {
     "data": {
      "text/html": [
       "<div>\n",
       "<style scoped>\n",
       "    .dataframe tbody tr th:only-of-type {\n",
       "        vertical-align: middle;\n",
       "    }\n",
       "\n",
       "    .dataframe tbody tr th {\n",
       "        vertical-align: top;\n",
       "    }\n",
       "\n",
       "    .dataframe thead th {\n",
       "        text-align: right;\n",
       "    }\n",
       "</style>\n",
       "<table border=\"1\" class=\"dataframe\">\n",
       "  <thead>\n",
       "    <tr style=\"text-align: right;\">\n",
       "      <th></th>\n",
       "      <th>formula</th>\n",
       "      <th>db_center</th>\n",
       "      <th>ad_energy</th>\n",
       "    </tr>\n",
       "  </thead>\n",
       "  <tbody>\n",
       "    <tr>\n",
       "      <th>0</th>\n",
       "      <td>Cu12Co</td>\n",
       "      <td>-1.33</td>\n",
       "      <td>-0.547</td>\n",
       "    </tr>\n",
       "    <tr>\n",
       "      <th>1</th>\n",
       "      <td>Cu12Rh</td>\n",
       "      <td>-1.57</td>\n",
       "      <td>-0.591</td>\n",
       "    </tr>\n",
       "    <tr>\n",
       "      <th>2</th>\n",
       "      <td>Cu12Ir</td>\n",
       "      <td>-1.74</td>\n",
       "      <td>-0.420</td>\n",
       "    </tr>\n",
       "    <tr>\n",
       "      <th>3</th>\n",
       "      <td>Cu12Ni</td>\n",
       "      <td>-1.21</td>\n",
       "      <td>-0.674</td>\n",
       "    </tr>\n",
       "    <tr>\n",
       "      <th>4</th>\n",
       "      <td>Cu12Pd</td>\n",
       "      <td>-2.01</td>\n",
       "      <td>-0.500</td>\n",
       "    </tr>\n",
       "    <tr>\n",
       "      <th>5</th>\n",
       "      <td>Cu12Pt</td>\n",
       "      <td>-1.78</td>\n",
       "      <td>-0.391</td>\n",
       "    </tr>\n",
       "    <tr>\n",
       "      <th>6</th>\n",
       "      <td>Cu13</td>\n",
       "      <td>-2.33</td>\n",
       "      <td>-0.316</td>\n",
       "    </tr>\n",
       "    <tr>\n",
       "      <th>7</th>\n",
       "      <td>Cu12Ag</td>\n",
       "      <td>-4.13</td>\n",
       "      <td>-0.201</td>\n",
       "    </tr>\n",
       "    <tr>\n",
       "      <th>8</th>\n",
       "      <td>Cu12Au</td>\n",
       "      <td>-3.12</td>\n",
       "      <td>-0.298</td>\n",
       "    </tr>\n",
       "  </tbody>\n",
       "</table>\n",
       "</div>"
      ],
      "text/plain": [
       "  formula  db_center  ad_energy\n",
       "0  Cu12Co      -1.33     -0.547\n",
       "1  Cu12Rh      -1.57     -0.591\n",
       "2  Cu12Ir      -1.74     -0.420\n",
       "3  Cu12Ni      -1.21     -0.674\n",
       "4  Cu12Pd      -2.01     -0.500\n",
       "5  Cu12Pt      -1.78     -0.391\n",
       "6    Cu13      -2.33     -0.316\n",
       "7  Cu12Ag      -4.13     -0.201\n",
       "8  Cu12Au      -3.12     -0.298"
      ]
     },
     "execution_count": 3,
     "metadata": {},
     "output_type": "execute_result"
    }
   ],
   "source": [
    "from pandas import read_csv\n",
    "\n",
    "with open('db_center.csv', encoding = 'UTF-8') as f:\n",
    "    names = ['formula', 'db_center', 'ad_energy']\n",
    "    data = read_csv(f, names = names)\n",
    "data"
   ]
  },
  {
   "cell_type": "code",
   "execution_count": 16,
   "id": "21de1531",
   "metadata": {},
   "outputs": [
    {
     "data": {
      "text/html": [
       "<div>\n",
       "<style scoped>\n",
       "    .dataframe tbody tr th:only-of-type {\n",
       "        vertical-align: middle;\n",
       "    }\n",
       "\n",
       "    .dataframe tbody tr th {\n",
       "        vertical-align: top;\n",
       "    }\n",
       "\n",
       "    .dataframe thead th {\n",
       "        text-align: right;\n",
       "    }\n",
       "</style>\n",
       "<table border=\"1\" class=\"dataframe\">\n",
       "  <thead>\n",
       "    <tr style=\"text-align: right;\">\n",
       "      <th></th>\n",
       "      <th>formula</th>\n",
       "      <th>db_center</th>\n",
       "      <th>ad_energy</th>\n",
       "    </tr>\n",
       "  </thead>\n",
       "  <tbody>\n",
       "    <tr>\n",
       "      <th>0</th>\n",
       "      <td>Cu12Co</td>\n",
       "      <td>-1.33</td>\n",
       "      <td>-0.547</td>\n",
       "    </tr>\n",
       "    <tr>\n",
       "      <th>1</th>\n",
       "      <td>Cu12Rh</td>\n",
       "      <td>-1.57</td>\n",
       "      <td>-0.591</td>\n",
       "    </tr>\n",
       "    <tr>\n",
       "      <th>2</th>\n",
       "      <td>Cu12Ir</td>\n",
       "      <td>-1.74</td>\n",
       "      <td>-0.420</td>\n",
       "    </tr>\n",
       "    <tr>\n",
       "      <th>3</th>\n",
       "      <td>Cu12Ni</td>\n",
       "      <td>-1.21</td>\n",
       "      <td>-0.674</td>\n",
       "    </tr>\n",
       "    <tr>\n",
       "      <th>4</th>\n",
       "      <td>Cu12Pd</td>\n",
       "      <td>-2.01</td>\n",
       "      <td>-0.500</td>\n",
       "    </tr>\n",
       "    <tr>\n",
       "      <th>5</th>\n",
       "      <td>Cu12Pt</td>\n",
       "      <td>-1.78</td>\n",
       "      <td>-0.391</td>\n",
       "    </tr>\n",
       "    <tr>\n",
       "      <th>6</th>\n",
       "      <td>Cu13</td>\n",
       "      <td>-2.33</td>\n",
       "      <td>-0.316</td>\n",
       "    </tr>\n",
       "    <tr>\n",
       "      <th>7</th>\n",
       "      <td>Cu12Ag</td>\n",
       "      <td>-4.13</td>\n",
       "      <td>-0.201</td>\n",
       "    </tr>\n",
       "    <tr>\n",
       "      <th>8</th>\n",
       "      <td>Cu12Au</td>\n",
       "      <td>-3.12</td>\n",
       "      <td>-0.298</td>\n",
       "    </tr>\n",
       "  </tbody>\n",
       "</table>\n",
       "</div>"
      ],
      "text/plain": [
       "  formula  db_center  ad_energy\n",
       "0  Cu12Co      -1.33     -0.547\n",
       "1  Cu12Rh      -1.57     -0.591\n",
       "2  Cu12Ir      -1.74     -0.420\n",
       "3  Cu12Ni      -1.21     -0.674\n",
       "4  Cu12Pd      -2.01     -0.500\n",
       "5  Cu12Pt      -1.78     -0.391\n",
       "6    Cu13      -2.33     -0.316\n",
       "7  Cu12Ag      -4.13     -0.201\n",
       "8  Cu12Au      -3.12     -0.298"
      ]
     },
     "execution_count": 16,
     "metadata": {},
     "output_type": "execute_result"
    }
   ],
   "source": [
    "from pandas import read_csv\n",
    "\n",
    "with open('db_center.csv', encoding = 'UTF-8') as f:\n",
    "    data = read_csv(f, names = ['formula', 'db_center', 'ad_energy'])\n",
    "data"
   ]
  },
  {
   "cell_type": "code",
   "execution_count": 19,
   "id": "8972d297",
   "metadata": {},
   "outputs": [
    {
     "name": "stdout",
     "output_type": "stream",
     "text": [
      "[[-1.33]\n",
      " [-1.57]\n",
      " [-1.74]\n",
      " [-1.21]\n",
      " [-2.01]\n",
      " [-1.78]\n",
      " [-2.33]\n",
      " [-4.13]\n",
      " [-3.12]]\n",
      "[-0.547 -0.591 -0.42  -0.674 -0.5   -0.391 -0.316 -0.201 -0.298]\n"
     ]
    }
   ],
   "source": [
    "X = data['db_center'].values.reshape(-1,1)   #这里必须转成列向量，因为实际上更普遍的情况是：X是多维的数组。一行就是一个数组\n",
    "y = data['ad_energy'].values  #.values是把数据转成一个数组\n",
    "print(X)\n",
    "print(y)"
   ]
  },
  {
   "cell_type": "code",
   "execution_count": 18,
   "id": "7d868d9a",
   "metadata": {},
   "outputs": [
    {
     "data": {
      "text/html": [
       "<style>#sk-container-id-2 {color: black;background-color: white;}#sk-container-id-2 pre{padding: 0;}#sk-container-id-2 div.sk-toggleable {background-color: white;}#sk-container-id-2 label.sk-toggleable__label {cursor: pointer;display: block;width: 100%;margin-bottom: 0;padding: 0.3em;box-sizing: border-box;text-align: center;}#sk-container-id-2 label.sk-toggleable__label-arrow:before {content: \"▸\";float: left;margin-right: 0.25em;color: #696969;}#sk-container-id-2 label.sk-toggleable__label-arrow:hover:before {color: black;}#sk-container-id-2 div.sk-estimator:hover label.sk-toggleable__label-arrow:before {color: black;}#sk-container-id-2 div.sk-toggleable__content {max-height: 0;max-width: 0;overflow: hidden;text-align: left;background-color: #f0f8ff;}#sk-container-id-2 div.sk-toggleable__content pre {margin: 0.2em;color: black;border-radius: 0.25em;background-color: #f0f8ff;}#sk-container-id-2 input.sk-toggleable__control:checked~div.sk-toggleable__content {max-height: 200px;max-width: 100%;overflow: auto;}#sk-container-id-2 input.sk-toggleable__control:checked~label.sk-toggleable__label-arrow:before {content: \"▾\";}#sk-container-id-2 div.sk-estimator input.sk-toggleable__control:checked~label.sk-toggleable__label {background-color: #d4ebff;}#sk-container-id-2 div.sk-label input.sk-toggleable__control:checked~label.sk-toggleable__label {background-color: #d4ebff;}#sk-container-id-2 input.sk-hidden--visually {border: 0;clip: rect(1px 1px 1px 1px);clip: rect(1px, 1px, 1px, 1px);height: 1px;margin: -1px;overflow: hidden;padding: 0;position: absolute;width: 1px;}#sk-container-id-2 div.sk-estimator {font-family: monospace;background-color: #f0f8ff;border: 1px dotted black;border-radius: 0.25em;box-sizing: border-box;margin-bottom: 0.5em;}#sk-container-id-2 div.sk-estimator:hover {background-color: #d4ebff;}#sk-container-id-2 div.sk-parallel-item::after {content: \"\";width: 100%;border-bottom: 1px solid gray;flex-grow: 1;}#sk-container-id-2 div.sk-label:hover label.sk-toggleable__label {background-color: #d4ebff;}#sk-container-id-2 div.sk-serial::before {content: \"\";position: absolute;border-left: 1px solid gray;box-sizing: border-box;top: 0;bottom: 0;left: 50%;z-index: 0;}#sk-container-id-2 div.sk-serial {display: flex;flex-direction: column;align-items: center;background-color: white;padding-right: 0.2em;padding-left: 0.2em;position: relative;}#sk-container-id-2 div.sk-item {position: relative;z-index: 1;}#sk-container-id-2 div.sk-parallel {display: flex;align-items: stretch;justify-content: center;background-color: white;position: relative;}#sk-container-id-2 div.sk-item::before, #sk-container-id-2 div.sk-parallel-item::before {content: \"\";position: absolute;border-left: 1px solid gray;box-sizing: border-box;top: 0;bottom: 0;left: 50%;z-index: -1;}#sk-container-id-2 div.sk-parallel-item {display: flex;flex-direction: column;z-index: 1;position: relative;background-color: white;}#sk-container-id-2 div.sk-parallel-item:first-child::after {align-self: flex-end;width: 50%;}#sk-container-id-2 div.sk-parallel-item:last-child::after {align-self: flex-start;width: 50%;}#sk-container-id-2 div.sk-parallel-item:only-child::after {width: 0;}#sk-container-id-2 div.sk-dashed-wrapped {border: 1px dashed gray;margin: 0 0.4em 0.5em 0.4em;box-sizing: border-box;padding-bottom: 0.4em;background-color: white;}#sk-container-id-2 div.sk-label label {font-family: monospace;font-weight: bold;display: inline-block;line-height: 1.2em;}#sk-container-id-2 div.sk-label-container {text-align: center;}#sk-container-id-2 div.sk-container {/* jupyter's `normalize.less` sets `[hidden] { display: none; }` but bootstrap.min.css set `[hidden] { display: none !important; }` so we also need the `!important` here to be able to override the default hidden behavior on the sphinx rendered scikit-learn.org. See: https://github.com/scikit-learn/scikit-learn/issues/21755 */display: inline-block !important;position: relative;}#sk-container-id-2 div.sk-text-repr-fallback {display: none;}</style><div id=\"sk-container-id-2\" class=\"sk-top-container\"><div class=\"sk-text-repr-fallback\"><pre>LinearRegression()</pre><b>In a Jupyter environment, please rerun this cell to show the HTML representation or trust the notebook. <br />On GitHub, the HTML representation is unable to render, please try loading this page with nbviewer.org.</b></div><div class=\"sk-container\" hidden><div class=\"sk-item\"><div class=\"sk-estimator sk-toggleable\"><input class=\"sk-toggleable__control sk-hidden--visually\" id=\"sk-estimator-id-2\" type=\"checkbox\" checked><label for=\"sk-estimator-id-2\" class=\"sk-toggleable__label sk-toggleable__label-arrow\">LinearRegression</label><div class=\"sk-toggleable__content\"><pre>LinearRegression()</pre></div></div></div></div></div>"
      ],
      "text/plain": [
       "LinearRegression()"
      ]
     },
     "execution_count": 18,
     "metadata": {},
     "output_type": "execute_result"
    }
   ],
   "source": [
    "from sklearn.linear_model import LinearRegression  #做线性回归\n",
    "from sklearn.metrics import mean_squared_error   #求R^2的算法\n",
    "\n",
    "Ir = LinearRegression()  #告诉程序我要做一个线性回归的模型\n",
    "\n",
    "Ir.fit(X, y)  #对X和y进行拟合"
   ]
  },
  {
   "cell_type": "code",
   "execution_count": 7,
   "id": "a574c562",
   "metadata": {},
   "outputs": [
    {
     "name": "stdout",
     "output_type": "stream",
     "text": [
      "predict = [-0.41416986]\n",
      "predict = [-0.55211386 -0.51798338 -0.49380763 -0.56917909 -0.45541085 -0.48811922\n",
      " -0.40990355 -0.153925   -0.29755741]\n"
     ]
    }
   ],
   "source": [
    "predicts1 = Ir.predict([[-2.3]])   #预测一个新的X值，X=[[-2.2]],即输入值也是数组\n",
    "predicts2 = Ir.predict(X) \n",
    "print('predict = ' + str(predicts1))\n",
    "print('predict = ' + str(predicts2))"
   ]
  },
  {
   "cell_type": "code",
   "execution_count": 9,
   "id": "53f6f8e0",
   "metadata": {},
   "outputs": [
    {
     "name": "stdout",
     "output_type": "stream",
     "text": [
      "r2 = 0.7646612597264623\n"
     ]
    }
   ],
   "source": [
    "r2 = Ir.score(X, y)  #计算r2，均方差\n",
    "print('r2 = ' + str(r2))"
   ]
  },
  {
   "cell_type": "code",
   "execution_count": 10,
   "id": "5e016433",
   "metadata": {},
   "outputs": [
    {
     "name": "stdout",
     "output_type": "stream",
     "text": [
      "[-0.14221031] -0.7412535628655477\n",
      "y = -0.14221030519198377x-0.7412535628655477\n"
     ]
    }
   ],
   "source": [
    "coef = Ir.coef_  #输出斜率| 结果是数组，因为多元线性回归的斜率就是有多个，看ppt\n",
    "intercept = Ir.intercept_  #输出截距\n",
    "print(coef, intercept)\n",
    "print('y = ' + str(coef[0]) + 'x' + str(intercept))"
   ]
  },
  {
   "cell_type": "code",
   "execution_count": 12,
   "id": "2448f332",
   "metadata": {},
   "outputs": [
    {
     "data": {
      "image/png": "[encoded data removed]",
      "text/plain": [
       "<Figure size 432x288 with 1 Axes>"
      ]
     },
     "metadata": {
      "needs_background": "light"
     },
     "output_type": "display_data"
    }
   ],
   "source": [
    "import matplotlib.pyplot as plt\n",
    "\n",
    "x0 = data['db_center'].values.reshape(-1,1)   #这里必须转成列向量，因为实际上更普遍的情况是：X是多维的数组。一行就是一个数组\n",
    "y0 = data['ad_energy'].values  #.values是把数据转成一个数组\n",
    "\n",
    "plt.scatter(x0, y0, label = 'actual value')  \n",
    "plt.plot(x0, Ir.predict(X), color= 'r', label = 'predict value')\n",
    "plt.legend()  #显示右上角的标签\n",
    "plt.show()"
   ]
  },
  {
   "cell_type": "markdown",
   "id": "0532740d",
   "metadata": {},
   "source": [
    "非线性回归\n",
    "非线性回归\n",
    "非线性回归\n",
    "非线性回归\n",
    "非线性回归"
   ]
  },
  {
   "cell_type": "code",
   "execution_count": null,
   "id": "7472d200",
   "metadata": {},
   "outputs": [],
   "source": []
  }
 ],
 "metadata": {
  "kernelspec": {
   "display_name": "Python 3",
   "language": "python",
   "name": "python3"
  },
  "language_info": {
   "codemirror_mode": {
    "name": "ipython",
    "version": 3
   },
   "file_extension": ".py",
   "mimetype": "text/x-python",
   "name": "python",
   "nbconvert_exporter": "python",
   "pygments_lexer": "ipython3",
   "version": "3.8.8"
  }
 },
 "nbformat": 4,
 "nbformat_minor": 5
}
