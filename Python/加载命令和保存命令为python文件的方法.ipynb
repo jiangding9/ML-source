{
 "cells": [
  {
   "cell_type": "code",
   "execution_count": 2,
   "id": "91df16f0",
   "metadata": {},
   "outputs": [
    {
     "name": "stdout",
     "output_type": "stream",
     "text": [
      "hello world\n"
     ]
    }
   ],
   "source": [
    "# %load abc.py   输入%load abc.py就能导入到jupyter\n",
    "print('hello world')"
   ]
  },
  {
   "cell_type": "code",
   "execution_count": 3,
   "id": "3c3559b9",
   "metadata": {},
   "outputs": [
    {
     "name": "stdout",
     "output_type": "stream",
     "text": [
      "world\n"
     ]
    }
   ],
   "source": [
    "print('world')"
   ]
  },
  {
   "cell_type": "markdown",
   "id": "e3607bc2",
   "metadata": {},
   "source": [
    "这是一个程序\n",
    "想把文件保存为py文件，可以点击左上角File,点[Download as】python即可，就能保存为py文件，要打开的方法如上所示。"
   ]
  },
  {
   "cell_type": "code",
   "execution_count": null,
   "id": "d1cd6762",
   "metadata": {},
   "outputs": [],
   "source": []
  }
 ],
 "metadata": {
  "kernelspec": {
   "display_name": "Python 3",
   "language": "python",
   "name": "python3"
  },
  "language_info": {
   "codemirror_mode": {
    "name": "ipython",
    "version": 3
   },
   "file_extension": ".py",
   "mimetype": "text/x-python",
   "name": "python",
   "nbconvert_exporter": "python",
   "pygments_lexer": "ipython3",
   "version": "3.8.8"
  }
 },
 "nbformat": 4,
 "nbformat_minor": 5
}
