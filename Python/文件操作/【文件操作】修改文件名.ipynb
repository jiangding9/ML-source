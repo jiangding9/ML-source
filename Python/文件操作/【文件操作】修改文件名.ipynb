{
 "cells": [
  {
   "cell_type": "code",
   "execution_count": 10,
   "id": "5966281d",
   "metadata": {},
   "outputs": [],
   "source": [
    "import os\n",
    "\n",
    "# 获取指定目录下所有的文件名称\n",
    "dir_path = \"F:\\\\工作区\\\\蒋鼎\\\\博士文章\\\\拆分小论文\\\\【第四个体系】神经网络\\测试集（氮氧共存）\\\\arm2321-OH\"\n",
    "files = os.listdir(dir_path)\n",
    "\n",
    "# 遍历所有的文件名称\n",
    "for filename in files:\n",
    "    # 如果文件名称以log结尾\n",
    "    if filename.endswith(\".gjf\"):\n",
    "        # 更改文件名称中的某一个字符\n",
    "        new_filename = filename.replace(\"0N\", \"1N\")\n",
    "        #新文件名需要再指定一次当前目录\n",
    "        os.chdir(dir_path)\n",
    "        os.rename(filename, new_filename)\n"
   ]
  }
 ],
 "metadata": {
  "kernelspec": {
   "display_name": "Python 3",
   "language": "python",
   "name": "python3"
  },
  "language_info": {
   "codemirror_mode": {
    "name": "ipython",
    "version": 3
   },
   "file_extension": ".py",
   "mimetype": "text/x-python",
   "name": "python",
   "nbconvert_exporter": "python",
   "pygments_lexer": "ipython3",
   "version": "3.8.8"
  }
 },
 "nbformat": 4,
 "nbformat_minor": 5
}
