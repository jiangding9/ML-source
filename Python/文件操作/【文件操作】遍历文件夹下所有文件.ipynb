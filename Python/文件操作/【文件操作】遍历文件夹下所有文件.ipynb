{
 "cells": [
  {
   "cell_type": "code",
   "execution_count": 1,
   "id": "37252cfd",
   "metadata": {},
   "outputs": [
    {
     "ename": "UnicodeDecodeError",
     "evalue": "'gbk' codec can't decode byte 0xcf in position 73: illegal multibyte sequence",
     "output_type": "error",
     "traceback": [
      "\u001b[1;31m---------------------------------------------------------------------------\u001b[0m",
      "\u001b[1;31mUnicodeDecodeError\u001b[0m                        Traceback (most recent call last)",
      "\u001b[1;32m<ipython-input-1-2866f27b2797>\u001b[0m in \u001b[0;36m<module>\u001b[1;34m\u001b[0m\n\u001b[0;32m      8\u001b[0m           \u001b[0miter_f\u001b[0m \u001b[1;33m=\u001b[0m \u001b[0miter\u001b[0m\u001b[1;33m(\u001b[0m\u001b[0mf\u001b[0m\u001b[1;33m)\u001b[0m \u001b[1;31m#创建迭代器\u001b[0m\u001b[1;33m\u001b[0m\u001b[1;33m\u001b[0m\u001b[0m\n\u001b[0;32m      9\u001b[0m           \u001b[0mstr\u001b[0m \u001b[1;33m=\u001b[0m \u001b[1;34m\"\"\u001b[0m\u001b[1;33m\u001b[0m\u001b[1;33m\u001b[0m\u001b[0m\n\u001b[1;32m---> 10\u001b[1;33m           \u001b[1;32mfor\u001b[0m \u001b[0mline\u001b[0m \u001b[1;32min\u001b[0m \u001b[0miter_f\u001b[0m\u001b[1;33m:\u001b[0m \u001b[1;31m#遍历文件，一行行遍历，读取文本\u001b[0m\u001b[1;33m\u001b[0m\u001b[1;33m\u001b[0m\u001b[0m\n\u001b[0m\u001b[0;32m     11\u001b[0m               \u001b[0mstr\u001b[0m \u001b[1;33m=\u001b[0m \u001b[0mstr\u001b[0m \u001b[1;33m+\u001b[0m \u001b[0mline\u001b[0m\u001b[1;33m\u001b[0m\u001b[1;33m\u001b[0m\u001b[0m\n\u001b[0;32m     12\u001b[0m           \u001b[0ms\u001b[0m\u001b[1;33m.\u001b[0m\u001b[0mappend\u001b[0m\u001b[1;33m(\u001b[0m\u001b[0mstr\u001b[0m\u001b[1;33m)\u001b[0m \u001b[1;31m#每个文件的文本存到list中\u001b[0m\u001b[1;33m\u001b[0m\u001b[1;33m\u001b[0m\u001b[0m\n",
      "\u001b[1;31mUnicodeDecodeError\u001b[0m: 'gbk' codec can't decode byte 0xcf in position 73: illegal multibyte sequence"
     ]
    }
   ],
   "source": [
    "import os\n",
    "path = \"F:\\工作区\\蒋鼎\\博士文章\\拆分小论文\\【第四个体系】神经网络\\表征\\红外&EPR\\H221205HYKJ3IR\" #文件夹目录\n",
    "files= os.listdir(path) #得到文件夹下的所有文件名称\n",
    "s = []\n",
    "for file in files: #遍历文件夹\n",
    "     if not os.path.isdir(file): #判断是否是文件夹，不是文件夹才打开\n",
    "          f = open(path+\"/\"+file) #打开文件\n",
    "          iter_f = iter(f) #创建迭代器\n",
    "          str = \"\"\n",
    "          for line in iter_f: #遍历文件，一行行遍历，读取文本\n",
    "              str = str + line\n",
    "          s.append(str) #每个文件的文本存到list中\n",
    "print(s) #打印结果"
   ]
  },
  {
   "cell_type": "code",
   "execution_count": 49,
   "id": "65a747ba",
   "metadata": {},
   "outputs": [
    {
     "name": "stdout",
     "output_type": "stream",
     "text": [
      "<class 'list'>\n",
      "['1.CSV', '1.pdf', '1.SPA', '2.CSV', '2.pdf', '2.SPA', '3.CSV', '3.pdf', '3.SPA']\n",
      "9\n",
      "[0, 1, 2, 3, 4, 5, 6, 7, 8]\n",
      "['1.CSV', '0', '1.SPA', '2.CSV', '2.pdf', '2.SPA', '3.CSV', '3.pdf', '3.SPA']\n",
      "['1.CSV', '0', '0', '2.CSV', '2.pdf', '2.SPA', '3.CSV', '3.pdf', '3.SPA']\n",
      "['1.CSV', '0', '0', '2.CSV', '0', '2.SPA', '3.CSV', '3.pdf', '3.SPA']\n",
      "['1.CSV', '0', '0', '2.CSV', '0', '0', '3.CSV', '3.pdf', '3.SPA']\n",
      "['1.CSV', '0', '0', '2.CSV', '0', '0', '3.CSV', '0', '3.SPA']\n",
      "['1.CSV', '0', '0', '2.CSV', '0', '0', '3.CSV', '0', '0']\n",
      "['1.CSV', '2.CSV', '3.CSV']\n"
     ]
    }
   ],
   "source": [
    "import os\n",
    "import numpy as np\n",
    "\n",
    "path = \"F:\\工作区\\蒋鼎\\博士文章\\拆分小论文\\【第四个体系】神经网络\\表征\\红外&EPR\\H221205HYKJ3IR\" #文件夹目录\n",
    "files=os.listdir(path)\n",
    "print(type(files))\n",
    "print(files)\n",
    "print(len(files))\n",
    "\n",
    "s = list(range(0,9,1))\n",
    "print(s)\n",
    "\n",
    "for i in s:\n",
    "    if 'CSV' not in files[i]:\n",
    "        files[i]='0'\n",
    "        print(files)\n",
    "        \n",
    "m = files\n",
    "del m[1:3]   #这段写的真垃圾\n",
    "del m[2:4]\n",
    "del m[3:5]\n",
    "\n",
    "print(m)\n"
   ]
  },
  {
   "cell_type": "code",
   "execution_count": 1,
   "id": "27d26048",
   "metadata": {},
   "outputs": [
    {
     "name": "stdout",
     "output_type": "stream",
     "text": [
      "<class 'list'>\n",
      "['1.CSV', '1.pdf', '1.SPA', '2.CSV', '2.pdf', '2.SPA', '3.CSV', '3.pdf', '3.SPA']\n",
      "9\n",
      "F:\\工作区\\蒋鼎\\博士文章\\拆分小论文\\【第四个体系】神经网络\\表征\\红外&EPR\\H221205HYKJ3IR1.CSV\n",
      "F:\\工作区\\蒋鼎\\博士文章\\拆分小论文\\【第四个体系】神经网络\\表征\\红外&EPR\\H221205HYKJ3IR1.pdf\n",
      "F:\\工作区\\蒋鼎\\博士文章\\拆分小论文\\【第四个体系】神经网络\\表征\\红外&EPR\\H221205HYKJ3IR1.SPA\n",
      "F:\\工作区\\蒋鼎\\博士文章\\拆分小论文\\【第四个体系】神经网络\\表征\\红外&EPR\\H221205HYKJ3IR2.CSV\n",
      "F:\\工作区\\蒋鼎\\博士文章\\拆分小论文\\【第四个体系】神经网络\\表征\\红外&EPR\\H221205HYKJ3IR2.pdf\n",
      "F:\\工作区\\蒋鼎\\博士文章\\拆分小论文\\【第四个体系】神经网络\\表征\\红外&EPR\\H221205HYKJ3IR2.SPA\n",
      "F:\\工作区\\蒋鼎\\博士文章\\拆分小论文\\【第四个体系】神经网络\\表征\\红外&EPR\\H221205HYKJ3IR3.CSV\n",
      "F:\\工作区\\蒋鼎\\博士文章\\拆分小论文\\【第四个体系】神经网络\\表征\\红外&EPR\\H221205HYKJ3IR3.pdf\n",
      "F:\\工作区\\蒋鼎\\博士文章\\拆分小论文\\【第四个体系】神经网络\\表征\\红外&EPR\\H221205HYKJ3IR3.SPA\n"
     ]
    }
   ],
   "source": [
    "import os\n",
    "import numpy as np\n",
    "\n",
    "path = \"F:\\工作区\\蒋鼎\\博士文章\\拆分小论文\\【第四个体系】神经网络\\表征\\红外&EPR\\H221205HYKJ3IR\" #文件夹目录\n",
    "files=os.listdir(path)\n",
    "print(type(files))\n",
    "print(files)\n",
    "print(len(files))\n",
    "\n",
    "for i in range(0,9,1):\n",
    "    \n",
    "    files[i] = path + files[i]\n",
    "    print(files[i])\n"
   ]
  },
  {
   "cell_type": "code",
   "execution_count": null,
   "id": "e63f16ff",
   "metadata": {},
   "outputs": [],
   "source": []
  }
 ],
 "metadata": {
  "kernelspec": {
   "display_name": "Python 3",
   "language": "python",
   "name": "python3"
  },
  "language_info": {
   "codemirror_mode": {
    "name": "ipython",
    "version": 3
   },
   "file_extension": ".py",
   "mimetype": "text/x-python",
   "name": "python",
   "nbconvert_exporter": "python",
   "pygments_lexer": "ipython3",
   "version": "3.8.8"
  }
 },
 "nbformat": 4,
 "nbformat_minor": 5
}
