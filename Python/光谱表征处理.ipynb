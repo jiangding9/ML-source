{
 "cells": [
  {
   "cell_type": "code",
   "execution_count": 47,
   "id": "fee52f61",
   "metadata": {},
   "outputs": [
    {
     "name": "stdout",
     "output_type": "stream",
     "text": [
      "[]\n"
     ]
    }
   ],
   "source": [
    "import os\n",
    "\n",
    "def get_csv_paths(folder):\n",
    "    csv_paths = []\n",
    "    for root, dirs, files in os.walk(folder):\n",
    "        for filename in files:\n",
    "            if filename.endswith(\".csv\"):\n",
    "                csv_paths.append(os.path.join(root, filename))\n",
    "    return csv_paths\n",
    "\n",
    "# 假设有两个 CSV 文件，分别位于 \"C:\\data\\sales.csv\" 和 \"C:\\data\\prices.csv\"\n",
    "\n",
    "a = get_csv_paths(\"F:\\\\工作区\\\\蒋鼎\\\\博士文章\\\\拆分小论文\\\\【第四个体系】神经网络\\\\表征\\\\红外&EPR\\\\H221205HYKJ3IR\")\n",
    "print(a)\n",
    "# 输出: [\"C:\\data\\sales.csv\", \"C:\\data\\prices.csv\"]"
   ]
  },
  {
   "cell_type": "markdown",
   "id": "301613f5",
   "metadata": {},
   "source": [
    "这个函数使用了 Python 的 os 模块中的 os.walk() 函数来遍历文件夹下的所有文件。在遍历时，它会检查文件名是否以 \".csv\" 结尾，如果是，则把该文件的路径添加到 csv_paths 列表中。\n",
    "\n",
    "下面是如何调用这个函数的例子："
   ]
  },
  {
   "cell_type": "code",
   "execution_count": null,
   "id": "5fae1e02",
   "metadata": {},
   "outputs": [],
   "source": [
    "# 假设有两个 CSV 文件，分别位于 \"C:\\data\\sales.csv\" 和 \"C:\\data\\prices.csv\"\n",
    "\n",
    "a = get_csv_paths(\"C:\\data\")\n",
    "print(a)\n",
    "# 输出: [\"C:\\data\\sales.csv\", \"C:\\data\\prices.csv\"]"
   ]
  },
  {
   "cell_type": "code",
   "execution_count": 37,
   "id": "84423bdd",
   "metadata": {},
   "outputs": [
    {
     "name": "stdout",
     "output_type": "stream",
     "text": [
      "['$RECYCLE.BIN', '3a092ba6363a4d5cb3494f09985473e2.xls', 'English', 'englishworkshop', 'figure', 'Flyingdisc', 'GameDownload', 'PPT-汇报正文.pptx', 'PSAutoRecover', 'System Volume Information', 'Van-conversion.cdx', '工作区', '工具包', '录屏', '新建文件夹']\n",
      "None\n"
     ]
    }
   ],
   "source": [
    "#定义读取当前目录下所有红外文件并进行画图的函数\n",
    "def get_csv_files(path):  #括号内写路径的字符串，如“F：\\\\programe\\\\123”\n",
    "    from pandas import read_csv\n",
    "    from matplotlib import pyplot as plt\n",
    "    import os\n",
    "    \n",
    "    # 获取当前文件夹下所有的文件名称\n",
    "    files = os.listdir(path)\n",
    "    print(files)\n",
    "    # 创建一个空的文件列表\n",
    "    file_list = []\n",
    "\n",
    "    # 遍历所有的文件名称\n",
    "    for filename in files:\n",
    "         # 如果文件名称以csv结尾\n",
    "        if filename.endswith(\".xls\"):\n",
    "              # 获取文件的完整路径\n",
    "            file_path = os.path.join(os.getcwd(), filename)\n",
    "              # 将文件的完整路径添加到文件列表中\n",
    "            file_list.append(file_path)\n",
    "\n",
    "file_list\n",
    "a = get_csv_files(\"F:\\\\\")\n",
    "print(a)"
   ]
  },
  {
   "cell_type": "code",
   "execution_count": 16,
   "id": "ee60a3ac",
   "metadata": {},
   "outputs": [
    {
     "data": {
      "text/html": [
       "<div>\n",
       "<style scoped>\n",
       "    .dataframe tbody tr th:only-of-type {\n",
       "        vertical-align: middle;\n",
       "    }\n",
       "\n",
       "    .dataframe tbody tr th {\n",
       "        vertical-align: top;\n",
       "    }\n",
       "\n",
       "    .dataframe thead th {\n",
       "        text-align: right;\n",
       "    }\n",
       "</style>\n",
       "<table border=\"1\" class=\"dataframe\">\n",
       "  <thead>\n",
       "    <tr style=\"text-align: right;\">\n",
       "      <th></th>\n",
       "      <th>wavenumber</th>\n",
       "      <th>adsorption</th>\n",
       "    </tr>\n",
       "  </thead>\n",
       "  <tbody>\n",
       "    <tr>\n",
       "      <th>0</th>\n",
       "      <td>399.6748</td>\n",
       "      <td>0.00000</td>\n",
       "    </tr>\n",
       "    <tr>\n",
       "      <th>1</th>\n",
       "      <td>400.1569</td>\n",
       "      <td>0.00000</td>\n",
       "    </tr>\n",
       "    <tr>\n",
       "      <th>2</th>\n",
       "      <td>400.6390</td>\n",
       "      <td>0.00000</td>\n",
       "    </tr>\n",
       "    <tr>\n",
       "      <th>3</th>\n",
       "      <td>401.1211</td>\n",
       "      <td>98.28225</td>\n",
       "    </tr>\n",
       "    <tr>\n",
       "      <th>4</th>\n",
       "      <td>401.6032</td>\n",
       "      <td>98.28325</td>\n",
       "    </tr>\n",
       "    <tr>\n",
       "      <th>...</th>\n",
       "      <td>...</td>\n",
       "      <td>...</td>\n",
       "    </tr>\n",
       "    <tr>\n",
       "      <th>7464</th>\n",
       "      <td>3998.1950</td>\n",
       "      <td>0.00000</td>\n",
       "    </tr>\n",
       "    <tr>\n",
       "      <th>7465</th>\n",
       "      <td>3998.6770</td>\n",
       "      <td>0.00000</td>\n",
       "    </tr>\n",
       "    <tr>\n",
       "      <th>7466</th>\n",
       "      <td>3999.1590</td>\n",
       "      <td>0.00000</td>\n",
       "    </tr>\n",
       "    <tr>\n",
       "      <th>7467</th>\n",
       "      <td>3999.6410</td>\n",
       "      <td>0.00000</td>\n",
       "    </tr>\n",
       "    <tr>\n",
       "      <th>7468</th>\n",
       "      <td>4000.1230</td>\n",
       "      <td>0.00000</td>\n",
       "    </tr>\n",
       "  </tbody>\n",
       "</table>\n",
       "<p>7469 rows × 2 columns</p>\n",
       "</div>"
      ],
      "text/plain": [
       "      wavenumber  adsorption\n",
       "0       399.6748     0.00000\n",
       "1       400.1569     0.00000\n",
       "2       400.6390     0.00000\n",
       "3       401.1211    98.28225\n",
       "4       401.6032    98.28325\n",
       "...          ...         ...\n",
       "7464   3998.1950     0.00000\n",
       "7465   3998.6770     0.00000\n",
       "7466   3999.1590     0.00000\n",
       "7467   3999.6410     0.00000\n",
       "7468   4000.1230     0.00000\n",
       "\n",
       "[7469 rows x 2 columns]"
      ]
     },
     "execution_count": 16,
     "metadata": {},
     "output_type": "execute_result"
    }
   ],
   "source": [
    "\n",
    "    \n",
    "    #循环遍历file_list数组中的所有元素\n",
    "    for file_abs in file_list:\n",
    "        with open (file_abs)\n",
    "        \n",
    "    file_abs = \"F:\\\\工作区\\\\蒋鼎\\\\博士文章\\\\拆分小论文\\\\【第四个体系】神经网络\\\\表征\\\\红外&EPR\\H221205HYKJ3IR\\\\1.csv\"\n",
    "\n",
    "with open (file_abs, mode = 'r', encoding = 'UTF-8-sig') as f:\n",
    "    names = ['wavenumber', 'adsorption']\n",
    "    data = read_csv(f, names = names)\n",
    "data\n"
   ]
  },
  {
   "cell_type": "code",
   "execution_count": 14,
   "id": "f8451f04",
   "metadata": {},
   "outputs": [
    {
     "name": "stdout",
     "output_type": "stream",
     "text": [
      "[ 399.6748  400.1569  400.639  ... 3999.159  3999.641  4000.123 ]\n",
      "[0. 0. 0. ... 0. 0. 0.]\n"
     ]
    }
   ],
   "source": [
    "x = data['wavenumber'].values\n",
    "y = data['adsorption'].values\n",
    "print(x)\n",
    "print(y)"
   ]
  },
  {
   "cell_type": "code",
   "execution_count": 27,
   "id": "fa261c7e",
   "metadata": {},
   "outputs": [
    {
     "data": {
      "text/plain": [
       "[<matplotlib.lines.Line2D at 0x159ce077fa0>]"
      ]
     },
     "execution_count": 27,
     "metadata": {},
     "output_type": "execute_result"
    },
    {
     "data": {
      "image/png": "[encoded data removed]",
      "text/plain": [
       "<Figure size 432x288 with 1 Axes>"
      ]
     },
     "metadata": {
      "needs_background": "light"
     },
     "output_type": "display_data"
    }
   ],
   "source": [
    "plt.xlim((3800,405))\n",
    "plt.ylim((20,120))\n",
    "plt.plot(x, y)"
   ]
  },
  {
   "cell_type": "code",
   "execution_count": null,
   "id": "b9fb2390",
   "metadata": {},
   "outputs": [],
   "source": []
  }
 ],
 "metadata": {
  "kernelspec": {
   "display_name": "Python 3",
   "language": "python",
   "name": "python3"
  },
  "language_info": {
   "codemirror_mode": {
    "name": "ipython",
    "version": 3
   },
   "file_extension": ".py",
   "mimetype": "text/x-python",
   "name": "python",
   "nbconvert_exporter": "python",
   "pygments_lexer": "ipython3",
   "version": "3.8.8"
  }
 },
 "nbformat": 4,
 "nbformat_minor": 5
}
