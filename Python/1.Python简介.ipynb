{
 "cells": [
  {
   "cell_type": "markdown",
   "id": "ece989d7",
   "metadata": {},
   "source": [
    "第一个程序"
   ]
  },
  {
   "cell_type": "code",
   "execution_count": 5,
   "id": "b2eb03c9",
   "metadata": {
    "scrolled": true
   },
   "outputs": [
    {
     "name": "stdout",
     "output_type": "stream",
     "text": [
      "hello world\n"
     ]
    }
   ],
   "source": [
    "print('hello world')"
   ]
  },
  {
   "cell_type": "markdown",
   "id": "d2e49cd0",
   "metadata": {},
   "source": [
    "下面的：，逗号只是分隔字符串的作用。去掉可以看到字符串中间就没有空格了"
   ]
  },
  {
   "cell_type": "code",
   "execution_count": 15,
   "id": "2b89395b",
   "metadata": {},
   "outputs": [
    {
     "name": "stdout",
     "output_type": "stream",
     "text": [
      "hello Machine learning\n"
     ]
    }
   ],
   "source": [
    "print('hello','Machine','learning')"
   ]
  },
  {
   "cell_type": "code",
   "execution_count": 13,
   "id": "c4e01b71",
   "metadata": {},
   "outputs": [
    {
     "name": "stdout",
     "output_type": "stream",
     "text": [
      "I'm fine\n"
     ]
    }
   ],
   "source": [
    "print('I\\'m fine')"
   ]
  },
  {
   "cell_type": "code",
   "execution_count": 40,
   "id": "ee18ad0c",
   "metadata": {},
   "outputs": [
    {
     "name": "stdout",
     "output_type": "stream",
     "text": [
      "I'm fine \n",
      "Me too\n",
      "I'm fine \n",
      " \bMe too\n",
      "I'm fine \n",
      " Me too\n",
      "I'm fine \n",
      " \r",
      "Me too\n",
      "I'm fine \n",
      "\t\r",
      "Me too\n"
     ]
    }
   ],
   "source": [
    "print('I\\'m fine \\nMe too')\n",
    "print('I\\'m fine \\n \\bMe too')\n",
    "print('I\\'m fine \\n Me too')\n",
    "print('I\\'m fine \\n \\rMe too')\n",
    "print('I\\'m fine \\n\\t\\rMe too')"
   ]
  },
  {
   "cell_type": "code",
   "execution_count": 43,
   "id": "9833d0c6",
   "metadata": {},
   "outputs": [
    {
     "name": "stdout",
     "output_type": "stream",
     "text": [
      "1 2 3\n",
      "1\t2\t3\n"
     ]
    }
   ],
   "source": [
    "print('1 2 3')\n",
    "print('1\\t2\\t3')  #字符串中的\\t表示制表符，"
   ]
  },
  {
   "cell_type": "code",
   "execution_count": 16,
   "id": "84655ee0",
   "metadata": {},
   "outputs": [
    {
     "name": "stdout",
     "output_type": "stream",
     "text": [
      "Help on built-in function print in module builtins:\n",
      "\n",
      "print(...)\n",
      "    print(value, ..., sep=' ', end='\\n', file=sys.stdout, flush=False)\n",
      "    \n",
      "    Prints the values to a stream, or to sys.stdout by default.\n",
      "    Optional keyword arguments:\n",
      "    file:  a file-like object (stream); defaults to the current sys.stdout.\n",
      "    sep:   string inserted between values, default a space.\n",
      "    end:   string appended after the last value, default a newline.\n",
      "    flush: whether to forcibly flush the stream.\n",
      "\n"
     ]
    }
   ],
   "source": [
    "help(print) "
   ]
  },
  {
   "cell_type": "code",
   "execution_count": 1,
   "id": "5bcdbcf9",
   "metadata": {},
   "outputs": [],
   "source": [
    "print?"
   ]
  },
  {
   "cell_type": "code",
   "execution_count": 19,
   "id": "abbc48ae",
   "metadata": {},
   "outputs": [
    {
     "name": "stdout",
     "output_type": "stream",
     "text": [
      "hello world\n"
     ]
    }
   ],
   "source": [
    "a = 'hello world'\n",
    "print(a)"
   ]
  },
  {
   "cell_type": "code",
   "execution_count": 47,
   "id": "2b1b0549",
   "metadata": {},
   "outputs": [
    {
     "name": "stdout",
     "output_type": "stream",
     "text": [
      "hello world\n"
     ]
    }
   ],
   "source": [
    "a='hello world'\n",
    "print(a)"
   ]
  },
  {
   "cell_type": "code",
   "execution_count": null,
   "id": "70c3a14d",
   "metadata": {},
   "outputs": [],
   "source": []
  }
 ],
 "metadata": {
  "kernelspec": {
   "display_name": "Python 3",
   "language": "python",
   "name": "python3"
  },
  "language_info": {
   "codemirror_mode": {
    "name": "ipython",
    "version": 3
   },
   "file_extension": ".py",
   "mimetype": "text/x-python",
   "name": "python",
   "nbconvert_exporter": "python",
   "pygments_lexer": "ipython3",
   "version": "3.8.8"
  }
 },
 "nbformat": 4,
 "nbformat_minor": 5
}
