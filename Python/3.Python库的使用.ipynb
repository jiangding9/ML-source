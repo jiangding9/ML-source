{
 "cells": [
  {
   "cell_type": "code",
   "execution_count": 4,
   "id": "a8a93ca0",
   "metadata": {},
   "outputs": [
    {
     "name": "stdout",
     "output_type": "stream",
     "text": [
      "Experiment\n",
      "3.3\n",
      "2.2\n",
      "2.5\n",
      "3.1\n",
      "3.0\n",
      "eV\n"
     ]
    }
   ],
   "source": [
    "f = open('sample.txt', mode = 'r')  #f是随意写的一个变量,可以理解为一个光标，要调用其他位置的文件，在引号内加上完整路径\n",
    "res = f.read()          #f的内容读入read()到res这个变量里,括号里数字写多少，就读取多少字节\n",
    "f.close()          #关闭文件\n",
    "print(res)           #输出res变量的内容"
   ]
  },
  {
   "cell_type": "code",
   "execution_count": 16,
   "id": "3e3d6852",
   "metadata": {},
   "outputs": [
    {
     "name": "stdout",
     "output_type": "stream",
     "text": [
      "Experiment\n",
      "\n"
     ]
    }
   ],
   "source": [
    "f = open('sample.txt', mode = 'r')  #f是随意写的一个变量\n",
    "res = f.readline()          #读取整行，括号里的数字为读取这一行的前x个字节\n",
    "f.close()          #关闭文件\n",
    "print(res)           #输出res变量的内容"
   ]
  },
  {
   "cell_type": "code",
   "execution_count": 19,
   "id": "aa13a707",
   "metadata": {},
   "outputs": [
    {
     "name": "stdout",
     "output_type": "stream",
     "text": [
      "['Experiment\\n', '3.3\\n', '2.2\\n', '2.5\\n', '3.1\\n', '3.0\\n', 'eV']\n",
      "Experiment\n",
      "3.3\n",
      "2.2\n",
      "2.5\n",
      "3.1\n",
      "3.0\n",
      "eV\n"
     ]
    }
   ],
   "source": [
    "f = open('sample.txt', mode = 'r')  #f是随意写的一个变量\n",
    "res = f.readlines()          #读取整个文件，返回一个列表【一行为一个字符串元素】\n",
    "f.close()          #关闭文件\n",
    "print(res)           #输出res变量的内容\n",
    "m2 = ''.join(res)   #还原成文本\n",
    "print(m2) "
   ]
  },
  {
   "cell_type": "code",
   "execution_count": 33,
   "id": "9e5c70d4",
   "metadata": {},
   "outputs": [
    {
     "name": "stdout",
     "output_type": "stream",
     "text": [
      "[3.3, 2.2, 2.5, 3.1, 3.0]\n"
     ]
    }
   ],
   "source": [
    "f = open('sample.txt', mode = 'r')   #打开\n",
    "f.readline()              #把第一行读取，随后光标f就会跑到第二行，这一点通过下一个例子表明\n",
    "data = []\n",
    "for i in range(5):          #进行5次循环，并存到data[]\n",
    "    data.append(float(f.readline()))    #把每一行都转化为浮点型（会自动去掉\\n）\n",
    "f.close()              #关闭文件，因为数据已经读完了\n",
    "print(data)          #输出data[]"
   ]
  },
  {
   "cell_type": "code",
   "execution_count": 1,
   "id": "9c025cb1",
   "metadata": {},
   "outputs": [
    {
     "name": "stdout",
     "output_type": "stream",
     "text": [
      "[2.2, 2.5, 3.1, 3.0]\n"
     ]
    }
   ],
   "source": [
    "f = open('sample.txt', mode = 'r')   #打开\n",
    "f.readline()              #把第一行读取，随后光标f就会跑到第二行\n",
    "f.readline()  \n",
    "data = []\n",
    "for i in range(4):          #进行5次循环，并存到data[]\n",
    "    data.append(float(f.readline()))    #把每一行都转化为浮点型（会自动去掉\\n）\n",
    "f.close()              #关闭文件，因为数据已经读完了\n",
    "print(data)          #输出data[]"
   ]
  },
  {
   "cell_type": "code",
   "execution_count": 10,
   "id": "e79c1e82",
   "metadata": {},
   "outputs": [
    {
     "name": "stdout",
     "output_type": "stream",
     "text": [
      "[3.3, 2.2, 2.5, 3.1, 3.0]\n"
     ]
    }
   ],
   "source": [
    "f = open('sample.txt', mode = 'r')   #打开\n",
    "data = f.readlines()\n",
    "f.close() #关闭文件\n",
    "data = data[1:-1]\n",
    "for i in range(len(data)):\n",
    "    data[i]=float(data[i])   #进行浮点型转化，是为了去掉字符串中的\\n\n",
    "print(data)          #输出data[]"
   ]
  },
  {
   "cell_type": "code",
   "execution_count": 3,
   "id": "e122a27c",
   "metadata": {},
   "outputs": [],
   "source": [
    "def mean_list(a):  #定义取平均的函数\n",
    "    sum = 0\n",
    "    for ele in a:\n",
    "        sum += ele\n",
    "    return sum / len(a) "
   ]
  },
  {
   "cell_type": "code",
   "execution_count": 4,
   "id": "169cea38",
   "metadata": {},
   "outputs": [
    {
     "data": {
      "text/plain": [
       "2.7"
      ]
     },
     "execution_count": 4,
     "metadata": {},
     "output_type": "execute_result"
    }
   ],
   "source": [
    "mean_list(data) #取平均的函数"
   ]
  },
  {
   "cell_type": "code",
   "execution_count": 5,
   "id": "04fa0a23",
   "metadata": {},
   "outputs": [],
   "source": [
    "f = open('res.txt', mode = 'w')   #写入\n",
    "f.write(str(mean_list(data)) + '\\n') #f.write（）括号里必须是字符串，+号是用于添加字符串的\n",
    "f.write(str(mean_list(data)) + '\\n')\n",
    "f.close()"
   ]
  },
  {
   "cell_type": "code",
   "execution_count": 16,
   "id": "043ea62a",
   "metadata": {},
   "outputs": [
    {
     "name": "stdout",
     "output_type": "stream",
     "text": [
      "[3.3, 2.2, 2.5, 3.1, 3.0]\n"
     ]
    }
   ],
   "source": [
    "with open('sample.txt', mode = 'r') as f:      #这么写后，会自动地把close（）加上，因此可以少写代码\n",
    "    f.readline()              #把第一行读取，随后光标f就会跑到第二行\n",
    "    data = []\n",
    "    for i in range(5):          #进行5次循环，并存到data[]\n",
    "        data.append(float(f.readline()))    #把每一行都转化为浮点型（会自动去掉\\n）\n",
    "print(data)          #输出data[]"
   ]
  }
 ],
 "metadata": {
  "kernelspec": {
   "display_name": "Python 3",
   "language": "python",
   "name": "python3"
  },
  "language_info": {
   "codemirror_mode": {
    "name": "ipython",
    "version": 3
   },
   "file_extension": ".py",
   "mimetype": "text/x-python",
   "name": "python",
   "nbconvert_exporter": "python",
   "pygments_lexer": "ipython3",
   "version": "3.8.8"
  }
 },
 "nbformat": 4,
 "nbformat_minor": 5
}
