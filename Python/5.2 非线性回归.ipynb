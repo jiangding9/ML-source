{
 "cells": [
  {
   "cell_type": "code",
   "execution_count": 5,
   "id": "b935ba8f",
   "metadata": {},
   "outputs": [],
   "source": [
    "import pandas as pd"
   ]
  },
  {
   "cell_type": "code",
   "execution_count": 6,
   "id": "4bdcfde7",
   "metadata": {},
   "outputs": [
    {
     "data": {
      "text/html": [
       "<div>\n",
       "<style scoped>\n",
       "    .dataframe tbody tr th:only-of-type {\n",
       "        vertical-align: middle;\n",
       "    }\n",
       "\n",
       "    .dataframe tbody tr th {\n",
       "        vertical-align: top;\n",
       "    }\n",
       "\n",
       "    .dataframe thead th {\n",
       "        text-align: right;\n",
       "    }\n",
       "</style>\n",
       "<table border=\"1\" class=\"dataframe\">\n",
       "  <thead>\n",
       "    <tr style=\"text-align: right;\">\n",
       "      <th></th>\n",
       "      <th>t</th>\n",
       "      <th>c3</th>\n",
       "    </tr>\n",
       "  </thead>\n",
       "  <tbody>\n",
       "    <tr>\n",
       "      <th>0</th>\n",
       "      <td>0</td>\n",
       "      <td>0.00</td>\n",
       "    </tr>\n",
       "    <tr>\n",
       "      <th>1</th>\n",
       "      <td>1</td>\n",
       "      <td>0.12</td>\n",
       "    </tr>\n",
       "    <tr>\n",
       "      <th>2</th>\n",
       "      <td>2</td>\n",
       "      <td>0.44</td>\n",
       "    </tr>\n",
       "    <tr>\n",
       "      <th>3</th>\n",
       "      <td>3</td>\n",
       "      <td>0.56</td>\n",
       "    </tr>\n",
       "    <tr>\n",
       "      <th>4</th>\n",
       "      <td>4</td>\n",
       "      <td>0.76</td>\n",
       "    </tr>\n",
       "    <tr>\n",
       "      <th>5</th>\n",
       "      <td>5</td>\n",
       "      <td>0.85</td>\n",
       "    </tr>\n",
       "    <tr>\n",
       "      <th>6</th>\n",
       "      <td>6</td>\n",
       "      <td>0.91</td>\n",
       "    </tr>\n",
       "    <tr>\n",
       "      <th>7</th>\n",
       "      <td>7</td>\n",
       "      <td>0.98</td>\n",
       "    </tr>\n",
       "    <tr>\n",
       "      <th>8</th>\n",
       "      <td>8</td>\n",
       "      <td>0.97</td>\n",
       "    </tr>\n",
       "    <tr>\n",
       "      <th>9</th>\n",
       "      <td>9</td>\n",
       "      <td>0.91</td>\n",
       "    </tr>\n",
       "    <tr>\n",
       "      <th>10</th>\n",
       "      <td>10</td>\n",
       "      <td>0.97</td>\n",
       "    </tr>\n",
       "  </tbody>\n",
       "</table>\n",
       "</div>"
      ],
      "text/plain": [
       "     t    c3\n",
       "0    0  0.00\n",
       "1    1  0.12\n",
       "2    2  0.44\n",
       "3    3  0.56\n",
       "4    4  0.76\n",
       "5    5  0.85\n",
       "6    6  0.91\n",
       "7    7  0.98\n",
       "8    8  0.97\n",
       "9    9  0.91\n",
       "10  10  0.97"
      ]
     },
     "execution_count": 6,
     "metadata": {},
     "output_type": "execute_result"
    }
   ],
   "source": [
    "with open('kinetics.csv', mode = 'r', encoding = 'UTF-8') as f:\n",
    "    df = pd.read_csv(f, names = ['t', 'c3'])\n",
    "    \n",
    "df"
   ]
  },
  {
   "cell_type": "code",
   "execution_count": 7,
   "id": "39fea128",
   "metadata": {},
   "outputs": [
    {
     "data": {
      "image/png": "[encoded data removed]",
      "text/plain": [
       "<Figure size 432x288 with 1 Axes>"
      ]
     },
     "metadata": {
      "needs_background": "light"
     },
     "output_type": "display_data"
    }
   ],
   "source": [
    "import matplotlib.pyplot as plt\n",
    "import numpy as np\n",
    "\n",
    "plt.scatter(df['t'], df['c3'], s = 50, c = 'k')  #df是调用对应标签的列数据，s是设置点的大小，c是颜色\n",
    "plt.show()"
   ]
  },
  {
   "cell_type": "code",
   "execution_count": 8,
   "id": "3b2cf038",
   "metadata": {},
   "outputs": [],
   "source": [
    "def func(t, k1, k2):  #这一步就是在写一个函数\n",
    "    c10 = 1.0 \n",
    "    \n",
    "    c1 = c10 *np.exp(-k1 * t)\n",
    "    c2 = k1 * c10 / (k2 - k1) * (np.exp(-k1 * t) - np.exp(-k2 * t))\n",
    "    c3 = c10 - c1 - c2\n",
    "    return c3\n",
    "\n",
    "def func2(t, k1, k2):  #这一步就是在写一个函数\n",
    "    c10 = 1.0 \n",
    "    \n",
    "    c1 = c10 *np.exp(-k1 * t)\n",
    "    c2 = k1 * c10 / (k2 - k1) * (np.exp(-k1 * t) - np.exp(-k2 * t))\n",
    "    return c2\n",
    "\n",
    "def func1(t, k1, k2):  #这一步就是在写一个函数\n",
    "    c10 = 1.0 \n",
    "    \n",
    "    c1 = c10 *np.exp(-k1 * t)\n",
    "    return c1"
   ]
  },
  {
   "cell_type": "code",
   "execution_count": 9,
   "id": "86f3382a",
   "metadata": {},
   "outputs": [
    {
     "name": "stdout",
     "output_type": "stream",
     "text": [
      "[0.93621629 0.51942599]\n"
     ]
    }
   ],
   "source": [
    "from scipy.optimize import curve_fit\n",
    "\n",
    "#第一个参数是函数名称func,第二个参数是子变量数据，对应函数fun里的t,第三个参数是对应fun函数的返回值c3。\n",
    "#等于我知道了函数的数据，定义了这个函数的关系。我要求未知的k1,k2。就用curve_fit这个函数来操作。\n",
    "pfit, pcov = curve_fit(func, df['t'], df['c3'], p0 = [1, 0]) #p0数组内的参数表示k1,k2的初始值。这里必须加，因为函数公式里k2-k1不能等于0。\n",
    "#上面的，pfit, pcov这么写是因为函数curve_fit会返回两个结果，这样可以分别命名，第一个是系数，第二个是协方差矩阵。\n",
    "print(pfit)\n",
    "#输出的结果一个是k1,k2。"
   ]
  },
  {
   "cell_type": "markdown",
   "id": "cea60326",
   "metadata": {},
   "source": [
    "help(curve_fit)"
   ]
  },
  {
   "cell_type": "code",
   "execution_count": 10,
   "id": "a44d81d8",
   "metadata": {},
   "outputs": [
    {
     "name": "stdout",
     "output_type": "stream",
     "text": [
      "[[ 0.16212683 -0.05382976]\n",
      " [-0.05382976  0.01869323]]\n"
     ]
    }
   ],
   "source": [
    "print(pcov)\n",
    "#下面的，实际上是一个2*2的协方差矩阵，斜对角的数值是一样的，因为表示cov(x,y)和cov(y,x).\n",
    "#主对角线的是cov(x,x)和cov(y,y)在这里代表的是估计参数的协方差，即k1和k2。"
   ]
  },
  {
   "cell_type": "code",
   "execution_count": 13,
   "id": "a57aff58",
   "metadata": {},
   "outputs": [
    {
     "data": {
      "image/png": "[encoded data removed]",
      "text/plain": [
       "<Figure size 432x288 with 1 Axes>"
      ]
     },
     "metadata": {
      "needs_background": "light"
     },
     "output_type": "display_data"
    }
   ],
   "source": [
    "#画散点\n",
    "plt.scatter(df['t'], df['c3'], s = 50, c = 'k')\n",
    "#获取一个等距数组\n",
    "t_cuv = np.linspace(0, 10, 100)\n",
    "#画曲线，注意输入值里的y值的表达方式\n",
    "plt.plot(t_cuv, func(t_cuv, 0.936, 0.519), c = 'r')  #c3的曲线\n",
    "plt.plot(t_cuv, func2(t_cuv, 0.936, 0.519), c = 'k')  #c2的曲线\n",
    "plt.plot(t_cuv, func1(t_cuv, 0.936, 0.519), c = 'y')  #c1的曲线\n",
    "plt.show()"
   ]
  },
  {
   "cell_type": "code",
   "execution_count": null,
   "id": "4cd4677f",
   "metadata": {},
   "outputs": [],
   "source": [
    " "
   ]
  }
 ],
 "metadata": {
  "kernelspec": {
   "display_name": "Python 3",
   "language": "python",
   "name": "python3"
  },
  "language_info": {
   "codemirror_mode": {
    "name": "ipython",
    "version": 3
   },
   "file_extension": ".py",
   "mimetype": "text/x-python",
   "name": "python",
   "nbconvert_exporter": "python",
   "pygments_lexer": "ipython3",
   "version": "3.8.8"
  }
 },
 "nbformat": 4,
 "nbformat_minor": 5
}
