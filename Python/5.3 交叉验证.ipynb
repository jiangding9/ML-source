{
 "cells": [
  {
   "cell_type": "code",
   "execution_count": 5,
   "id": "8c579858",
   "metadata": {},
   "outputs": [],
   "source": [
    "from sklearn.datasets import fetch_openml"
   ]
  },
  {
   "cell_type": "code",
   "execution_count": null,
   "id": "769c7810",
   "metadata": {},
   "outputs": [],
   "source": [
    "house = fetch_openml(name = 'house_prices', as_frame = True)\n",
    "house.data"
   ]
  },
  {
   "cell_type": "markdown",
   "id": "f7780eb1",
   "metadata": {},
   "source": [
    "Ames"
   ]
  },
  {
   "cell_type": "code",
   "execution_count": null,
   "id": "3b37c0e3",
   "metadata": {},
   "outputs": [],
   "source": [
    "print('samples total = ' + str(len(house.target)))\n",
    "for i in range(3):\n",
    "    print(house.data['LotArea'][i])\n",
    "    print(house.target[i])"
   ]
  },
  {
   "cell_type": "code",
   "execution_count": null,
   "id": "fe3fcfde",
   "metadata": {},
   "outputs": [],
   "source": [
    "import matplotlib.pyplot as plt\n",
    "\n",
    "plt.figure(figsize = (5, 5))\n",
    "plt.scatter(house.data['LotArea'], hosue.target) "
   ]
  },
  {
   "cell_type": "code",
   "execution_count": null,
   "id": "f61ff5bd",
   "metadata": {},
   "outputs": [],
   "source": [
    "import numpy as np"
   ]
  },
  {
   "cell_type": "code",
   "execution_count": null,
   "id": "9ce5130c",
   "metadata": {},
   "outputs": [],
   "source": [
    "X = np.array(hosue.data['LotArea'])\n",
    "y = house.target"
   ]
  },
  {
   "cell_type": "code",
   "execution_count": 6,
   "id": "061aaaa6",
   "metadata": {},
   "outputs": [],
   "source": [
    "from sklearn.linear_model import LinearRegression"
   ]
  },
  {
   "cell_type": "code",
   "execution_count": 7,
   "id": "22643ad1",
   "metadata": {},
   "outputs": [],
   "source": [
    "lr = LinearRegression()"
   ]
  },
  {
   "cell_type": "code",
   "execution_count": null,
   "id": "f3c6dcc3",
   "metadata": {},
   "outputs": [],
   "source": [
    "lr.fit(X.reshape(-1, 1), y)\n",
    "print(lr.coef_, lr.intercept_)"
   ]
  },
  {
   "cell_type": "markdown",
   "id": "9e727190",
   "metadata": {},
   "source": [
    "plt.figure(figsize = (5, 5))\n",
    "plt.scatter(house.data['LotArea'], hosue.target) \n",
    "plot_x = np.linspace(0, 200000, 10)\n",
    "plot_y = plot_x * lr.coef_ + lr.intercept_\n",
    "plt.plot(plot_x, plot_y, c = 'r')m"
   ]
  },
  {
   "cell_type": "code",
   "execution_count": 9,
   "id": "1883cbb7",
   "metadata": {},
   "outputs": [
    {
     "data": {
      "text/plain": [
       "438.0"
      ]
     },
     "execution_count": 9,
     "metadata": {},
     "output_type": "execute_result"
    }
   ],
   "source": [
    "1460 * 0.3"
   ]
  },
  {
   "cell_type": "code",
   "execution_count": null,
   "id": "c66c253c",
   "metadata": {},
   "outputs": [],
   "source": [
    "X_lo_train = X[:-400]\n",
    "y_lo_train = y[:-400]\n",
    "X_lo_test = X[-400:]\n",
    "y_lo_test = y[-400:]"
   ]
  },
  {
   "cell_type": "code",
   "execution_count": null,
   "id": "c8f67141",
   "metadata": {},
   "outputs": [],
   "source": [
    "lr_lo = LinearRegression()\n",
    "lr_lo.fit(X_lo_train.reshape(-1, 1), y_lo_train)\n",
    "print(lr_lo.coef_, lr_lo.intercept_)"
   ]
  },
  {
   "cell_type": "code",
   "execution_count": 10,
   "id": "880fdc2b",
   "metadata": {},
   "outputs": [],
   "source": [
    "from sklearn.metrics import mean_squared_error"
   ]
  },
  {
   "cell_type": "code",
   "execution_count": null,
   "id": "f97f02de",
   "metadata": {},
   "outputs": [],
   "source": [
    "#后面的%应该是用于代替前面的%的引子。str[%.3f]是格式化输出，保留3位小数，f是表示输出浮点数，如果是i就是输出整数\n",
    "print('RMSE=%.3f'%np.sqrt(mean_squared_error(y_true = y_lo_test, \n",
    "                                             y_pred = lr_lo.predict(X_lo_test.reshape(-1,1)))))"
   ]
  },
  {
   "cell_type": "code",
   "execution_count": null,
   "id": "036dad0a",
   "metadata": {},
   "outputs": [],
   "source": [
    "R2_lo = lr_lo.score(X_lo_test.reshape(-1, 1), y_lo_test)\n",
    "print('R2 = ' + str(R2_lo))b"
   ]
  },
  {
   "cell_type": "markdown",
   "id": "abd78697",
   "metadata": {},
   "source": [
    "交叉验证法"
   ]
  },
  {
   "cell_type": "code",
   "execution_count": null,
   "id": "a5b00eb0",
   "metadata": {},
   "outputs": [],
   "source": [
    "from sklearn.model_selection import cross_val_score\n",
    "#下面的；cross_val_score(fun, x, y， scoring= , cv= ) ‘cv’就是把样品分为k分的值\n",
    "#scoring = ‘neg_root_mean_squared_error’这里只能写net_···。不知道为啥。对应的下面就有下一行输出时就必须加一个负号，把值再转回来\n",
    "rmse_score = cross_val_score(lr, X.reshape(-1, 1), y, \n",
    "                             scoring = 'neg_root_mean_squared_error', cv = len(X))\n",
    "print('Fold:%i, mean RMSE.%.3f'%(len(rmse_score), -np.mean(rmse_score)))"
   ]
  }
 ],
 "metadata": {
  "kernelspec": {
   "display_name": "Python 3",
   "language": "python",
   "name": "python3"
  },
  "language_info": {
   "codemirror_mode": {
    "name": "ipython",
    "version": 3
   },
   "file_extension": ".py",
   "mimetype": "text/x-python",
   "name": "python",
   "nbconvert_exporter": "python",
   "pygments_lexer": "ipython3",
   "version": "3.8.8"
  }
 },
 "nbformat": 4,
 "nbformat_minor": 5
}
