{
 "cells": [
  {
   "cell_type": "code",
   "execution_count": 4,
   "id": "c106f3e4",
   "metadata": {
    "scrolled": true
   },
   "outputs": [
    {
     "name": "stdout",
     "output_type": "stream",
     "text": [
      "jkdlsfj\n",
      "hello jkdlsfj !\n"
     ]
    }
   ],
   "source": [
    "name = input()\n",
    "print('hello', name, '!')"
   ]
  },
  {
   "cell_type": "code",
   "execution_count": 9,
   "id": "7abebc65",
   "metadata": {},
   "outputs": [
    {
     "name": "stdout",
     "output_type": "stream",
     "text": [
      "1000000001\n"
     ]
    }
   ],
   "source": [
    "a = 1_000_000_000 #注意，这里的_在此数据类型中不被识别，只是作为数字的分隔，方便阅读!\n",
    "b = 1\n",
    "print(int(a)+b)"
   ]
  },
  {
   "cell_type": "code",
   "execution_count": 2,
   "id": "29a32672",
   "metadata": {},
   "outputs": [
    {
     "name": "stdout",
     "output_type": "stream",
     "text": [
      "255\n",
      "256\n"
     ]
    }
   ],
   "source": [
    "#在 Python 中，0xff 是一个整数字面量，它的值为 16 进制数字 0xff 的十进制表示，即 255。\n",
    "a = 0xff  \n",
    "b = 1\n",
    "print(int(a))\n",
    "print(int(a)+b)"
   ]
  },
  {
   "cell_type": "code",
   "execution_count": 17,
   "id": "73811222",
   "metadata": {},
   "outputs": [
    {
     "name": "stdout",
     "output_type": "stream",
     "text": [
      "2\n",
      "2.0\n"
     ]
    }
   ],
   "source": [
    "a = 5.6\n",
    "b = 2\n",
    "print(int(a)//b)  #这里的//是向下去相除后接近的数，结果的数的类型与前一个量的类型一致\n",
    "print(a//b)"
   ]
  },
  {
   "cell_type": "code",
   "execution_count": 11,
   "id": "569e1a8c",
   "metadata": {},
   "outputs": [
    {
     "name": "stdout",
     "output_type": "stream",
     "text": [
      "[1, 2, 3, 4, 5]\n",
      "3\n",
      "3\n"
     ]
    }
   ],
   "source": [
    "a = [1, 2, 3, 4, 5]\n",
    "print(a)\n",
    "print(a[2])\n",
    "print(a[-3])"
   ]
  },
  {
   "cell_type": "markdown",
   "id": "104b124c",
   "metadata": {},
   "source": [
    "列表索引内的数字默认是左闭右开的区间算符，list_a[1:3]在数学上表达为list_a[1:3)，因此实际上只取1和2位的值\n",
    "[：]内一边不写的话，就是取到头"
   ]
  },
  {
   "cell_type": "code",
   "execution_count": 19,
   "id": "9c32bc07",
   "metadata": {},
   "outputs": [
    {
     "name": "stdout",
     "output_type": "stream",
     "text": [
      "[255, 345]\n",
      "['ux', 255, 345]\n",
      "[255, 345, 'cm-1', 10]\n",
      "['ux', 255, 345, 'cm-1', 10, 'ux', 255, 345, 'cm-1', 10]\n",
      "['ux', 255, 345, 'cm-1', 10, 'res', 123]\n"
     ]
    }
   ],
   "source": [
    "list_a = ['ux', 255, 345, 'cm-1', 10]\n",
    "list_b = ['res', 123]\n",
    "\n",
    "print(list_a[1:3])\n",
    "print(list_a[:3])\n",
    "print(list_a[1:])\n",
    "print(list_a * 2)\n",
    "print(list_a + list_b)"
   ]
  },
  {
   "cell_type": "markdown",
   "id": "e54e7be4",
   "metadata": {},
   "source": [
    "range(1,10,1)从1取到9，间隔为1"
   ]
  },
  {
   "cell_type": "code",
   "execution_count": 7,
   "id": "662a269c",
   "metadata": {},
   "outputs": [
    {
     "data": {
      "text/plain": [
       "[1, 2, 3, 4, 5, 6, 7, 8, 9]"
      ]
     },
     "execution_count": 7,
     "metadata": {},
     "output_type": "execute_result"
    }
   ],
   "source": [
    "list_a = list(range(1,10,1))\n",
    "list_a"
   ]
  },
  {
   "cell_type": "code",
   "execution_count": 4,
   "id": "edeb96bf",
   "metadata": {},
   "outputs": [
    {
     "data": {
      "text/plain": [
       "[1, 4, 7]"
      ]
     },
     "execution_count": 4,
     "metadata": {},
     "output_type": "execute_result"
    }
   ],
   "source": [
    "list_a = list(range(1,10,3))\n",
    "list_a"
   ]
  },
  {
   "cell_type": "markdown",
   "id": "b9ce63f1",
   "metadata": {},
   "source": [
    "insert(3,99)将99插入到列表里的3（这里指第四个数）的位置"
   ]
  },
  {
   "cell_type": "code",
   "execution_count": 16,
   "id": "83fd87be",
   "metadata": {
    "scrolled": true
   },
   "outputs": [
    {
     "name": "stdout",
     "output_type": "stream",
     "text": [
      "[1, 2, 3, 4, 5, 6, 7, 8, 9, 11]\n",
      "[1, 2, 3, 99, 4, 5, 6, 7, 8, 9, 11]\n"
     ]
    }
   ],
   "source": [
    "list_a = list(range(1,10,1))\n",
    "\n",
    "list_a.append(11)\n",
    "print(list_a)\n",
    "\n",
    "list_a.insert(3, 99)\n",
    "print(list_a)"
   ]
  },
  {
   "cell_type": "code",
   "execution_count": 17,
   "id": "8aee126f",
   "metadata": {
    "scrolled": true
   },
   "outputs": [
    {
     "name": "stdout",
     "output_type": "stream",
     "text": [
      "[1, 2, 3, 4, 5, 6, 7, 8, 9, 11]\n"
     ]
    }
   ],
   "source": [
    "list_a.remove(99)\n",
    "print(list_a)"
   ]
  },
  {
   "cell_type": "code",
   "execution_count": 18,
   "id": "a86c5bdf",
   "metadata": {},
   "outputs": [
    {
     "name": "stdout",
     "output_type": "stream",
     "text": [
      "[1, 2, 3, 7, 4, 5, 6, 7, 8, 9, 11]\n",
      "[1, 2, 3, 4, 5, 6, 7, 8, 9, 11]\n"
     ]
    }
   ],
   "source": [
    "list_a.insert(3, 7)\n",
    "print(list_a)\n",
    "list_a.remove(7)  #这里实际上只去掉一个（第一个）7，要去除全部的7，看下面\n",
    "print(list_a)"
   ]
  },
  {
   "cell_type": "code",
   "execution_count": 19,
   "id": "9ebc0ee5",
   "metadata": {},
   "outputs": [
    {
     "name": "stdout",
     "output_type": "stream",
     "text": [
      "[1, 2, 4, 5, 6, 7, 8, 9, 11]\n"
     ]
    }
   ],
   "source": [
    "list_a.pop(2)  #去除2号位置的元素\n",
    "print(list_a)"
   ]
  },
  {
   "cell_type": "markdown",
   "id": "b9346a37",
   "metadata": {},
   "source": [
    "删除2号索引位置的值"
   ]
  },
  {
   "cell_type": "code",
   "execution_count": 21,
   "id": "1ac1b7d0",
   "metadata": {},
   "outputs": [
    {
     "name": "stdout",
     "output_type": "stream",
     "text": [
      "[1, 2, 5, 6, 7, 8, 9]\n"
     ]
    }
   ],
   "source": [
    "del list_a[-1]\n",
    "print(list_a)"
   ]
  },
  {
   "cell_type": "code",
   "execution_count": 23,
   "id": "500558b7",
   "metadata": {},
   "outputs": [
    {
     "name": "stdout",
     "output_type": "stream",
     "text": [
      "[1, 2, 6, 7, 8, 9]\n"
     ]
    },
    {
     "data": {
      "text/plain": [
       "[1, 2, 6, 7, 8, 9]"
      ]
     },
     "execution_count": 23,
     "metadata": {},
     "output_type": "execute_result"
    }
   ],
   "source": [
    "del list_a[2]\n",
    "print(list_a)\n",
    "list(list_a)  #list()可以将序列中的元素一一展示"
   ]
  },
  {
   "cell_type": "code",
   "execution_count": 22,
   "id": "0ef8cd7a",
   "metadata": {},
   "outputs": [
    {
     "name": "stdout",
     "output_type": "stream",
     "text": [
      "output: [1, 3, 5]\n",
      "ouitput: [3, 5]\n"
     ]
    }
   ],
   "source": [
    "values = []  #所以，实际上可以设定空列表\n",
    "values.append(1)\n",
    "values.append(3)\n",
    "values.append(5)\n",
    "print('output:', values)\n",
    "values = values[1:]\n",
    "print('ouitput:', values)"
   ]
  },
  {
   "cell_type": "code",
   "execution_count": 41,
   "id": "eb7d88fa",
   "metadata": {},
   "outputs": [
    {
     "name": "stdout",
     "output_type": "stream",
     "text": [
      "molecule\n",
      "m\n",
      "olec\n",
      "oe \n",
      "\n",
      "JD\n",
      "['JD', 'CXX']\n",
      "['C', 'X', 'X']\n"
     ]
    }
   ],
   "source": [
    "s = 'molecule'  #字符串其实本质也是一个序列\n",
    "print(s)\n",
    "print(s[0])\n",
    "print(s[1:5])\n",
    "print(s[1:5:2],'\\n')   #这里2表示按间隔选取\n",
    "m = ['JD','CXX','LXM','CYC']\n",
    "print(m[0])\n",
    "print(m[:2])\n",
    "print(list(m[1])) #拆解一个变量的元素。特别的，操作函数用小括号，列表用中括号"
   ]
  },
  {
   "cell_type": "code",
   "execution_count": 56,
   "id": "37bb7f2e",
   "metadata": {},
   "outputs": [
    {
     "name": "stdout",
     "output_type": "stream",
     "text": [
      "['l', 'e', 'c', 'u', 'l', 'e'] \n",
      "\n",
      "['m', 'o', 'l', 'e', 'c', 'u', 'l', 'e', 2, 'sjdg', True]\n"
     ]
    }
   ],
   "source": [
    "list(s)\n",
    "q = list(s)\n",
    "print(q[2:],'\\n')\n",
    "q.append(2)  #可以插入整型\n",
    "q.append('sjdg') #也可以插入字符串\n",
    "q.append(2>1) #也可以插入布尔型\n",
    "print(q)"
   ]
  },
  {
   "cell_type": "code",
   "execution_count": 77,
   "id": "19a7bd47",
   "metadata": {},
   "outputs": [
    {
     "name": "stdout",
     "output_type": "stream",
     "text": [
      "(1, 2, 3, 4, 5) ('x', 3) ('x', 2) \n",
      "\n",
      "3\n"
     ]
    }
   ],
   "source": [
    "tup1 = (1, 2, 3, 4, 5)\n",
    "tup2 = ('x', 3)   #turpo这个很少用，只有再不希望改这个东西的时候才会用这个\n",
    "tup3 = 'x', 2\n",
    "\n",
    "print(tup1, tup2, tup3,'\\n')\n",
    "print(tup2[1])         #元素统一用中括号，命令函数采用小括号（）"
   ]
  },
  {
   "cell_type": "code",
   "execution_count": 58,
   "id": "56e941a7",
   "metadata": {
    "scrolled": true
   },
   "outputs": [
    {
     "name": "stdout",
     "output_type": "stream",
     "text": [
      "<class 'tuple'>\n"
     ]
    }
   ],
   "source": [
    "tup1 = (1,)\n",
    "print(type(tup1))"
   ]
  },
  {
   "cell_type": "code",
   "execution_count": 59,
   "id": "fa4ac334",
   "metadata": {},
   "outputs": [
    {
     "data": {
      "text/plain": [
       "{'a', 'c', 'd', 'n', 'o'}"
      ]
     },
     "execution_count": 59,
     "metadata": {},
     "output_type": "execute_result"
    }
   ],
   "source": [
    "set1 = set('anaconda')\n",
    "set1"
   ]
  },
  {
   "cell_type": "code",
   "execution_count": 71,
   "id": "a9c445b6",
   "metadata": {},
   "outputs": [
    {
     "name": "stdout",
     "output_type": "stream",
     "text": [
      "{'n', 'o'}\n"
     ]
    }
   ],
   "source": [
    "set2 = set('python')\n",
    "set1 & set2\n",
    "print(set1&set2)"
   ]
  },
  {
   "cell_type": "code",
   "execution_count": 5,
   "id": "c2f15cf5",
   "metadata": {},
   "outputs": [
    {
     "data": {
      "text/plain": [
       "40"
      ]
     },
     "execution_count": 5,
     "metadata": {},
     "output_type": "execute_result"
    }
   ],
   "source": [
    "dict1 = {'H': 1, 'O':16, 'Na':23}\n",
    "mass = dict1['H']+dict1['O']+dict1['Na']\n",
    "mass"
   ]
  },
  {
   "cell_type": "code",
   "execution_count": 6,
   "id": "ab6829d6",
   "metadata": {},
   "outputs": [
    {
     "name": "stdout",
     "output_type": "stream",
     "text": [
      "C14\n"
     ]
    },
    {
     "data": {
      "text/plain": [
       "{12: 'C', 14: 'C14'}"
      ]
     },
     "execution_count": 6,
     "metadata": {},
     "output_type": "execute_result"
    }
   ],
   "source": [
    "dict2 = {}\n",
    "dict2[12] = 'C'  \n",
    "dict2[14] = 'N'\n",
    "dict2[14.0] = 'C14' #浮点数和整型会相互覆盖？\n",
    "print(dict2[14])\n",
    "dict2  #跟上一段对比，证明索引和值二者可以是任意数据类型"
   ]
  },
  {
   "cell_type": "code",
   "execution_count": 82,
   "id": "fa06d0fc",
   "metadata": {},
   "outputs": [
    {
     "name": "stdout",
     "output_type": "stream",
     "text": [
      "2812826218672\n",
      "2812826218672\n"
     ]
    }
   ],
   "source": [
    "test_1 = 'abc'\n",
    "test_2 = 'abc'\n",
    "print(id(test_1))  #id（）用于查看数据存到哪里了\n",
    "print(id(test_2))"
   ]
  },
  {
   "cell_type": "code",
   "execution_count": 85,
   "id": "08ae4cea",
   "metadata": {},
   "outputs": [
    {
     "name": "stdout",
     "output_type": "stream",
     "text": [
      "a is positive\n",
      "the square of a is 25\n"
     ]
    }
   ],
   "source": [
    "a = 5\n",
    "if(a > 0):\n",
    "    print('a is positive')\n",
    "    print('the square of a is', a*a) #print()函数可以写任意的数据类型，整形，负电性，布尔型和字符串"
   ]
  },
  {
   "cell_type": "code",
   "execution_count": 89,
   "id": "34fadc5a",
   "metadata": {},
   "outputs": [
    {
     "name": "stdout",
     "output_type": "stream",
     "text": [
      "is liquid\n"
     ]
    }
   ],
   "source": [
    "temp = 25\n",
    "if(temp > 100):\n",
    "    print('is gas')\n",
    "elif(temp > 0):             #顶格写，表明其与前面的if属于同一级别的循环语句。\n",
    "    print('is liquid')\n",
    "else:\n",
    "    print('is solid')"
   ]
  },
  {
   "cell_type": "code",
   "execution_count": 93,
   "id": "d204d941",
   "metadata": {
    "scrolled": true
   },
   "outputs": [
    {
     "name": "stdout",
     "output_type": "stream",
     "text": [
      "a = 2\n",
      "a = 4\n",
      "a = 6\n",
      "a = 8\n",
      "end\n"
     ]
    }
   ],
   "source": [
    "a = 1\n",
    "while(a < 10): #while（）里面相当于布尔型。 \n",
    "    if(a % 2 == 0):   #a除2取余\n",
    "        print('a =', a)\n",
    "    a += 1    #a=a+1\n",
    "print('end') #循环9次，判断10次"
   ]
  },
  {
   "cell_type": "code",
   "execution_count": null,
   "id": "6d647e52",
   "metadata": {},
   "outputs": [],
   "source": [
    "a = 1\n",
    "while(a < 10):\n",
    "    print('a =', a)\n",
    "    a -= 1       #这个就会一直满足条件，即——死循环"
   ]
  },
  {
   "cell_type": "code",
   "execution_count": 89,
   "id": "2026bb97",
   "metadata": {},
   "outputs": [
    {
     "name": "stdout",
     "output_type": "stream",
     "text": [
      "1 1 2 3 5 8 13 21 34 55 89 "
     ]
    }
   ],
   "source": [
    "a = 1\n",
    "b = 1\n",
    "while a < 100:\n",
    "    print (a, end=' ')  #end= ' ' 这里相当于把print( , end = '\\')里面的换行符换成空格，列变成行显示\n",
    "    a, b = b, a + b  #同时赋值，与a=b. b= a+b 这种先后赋值有所区别。"
   ]
  },
  {
   "cell_type": "code",
   "execution_count": 91,
   "id": "26d2b027",
   "metadata": {},
   "outputs": [
    {
     "name": "stdout",
     "output_type": "stream",
     "text": [
      "['red', 'purple', 'blue']\n",
      "['red', 'purple']\n",
      "['red']\n"
     ]
    }
   ],
   "source": [
    "a = ['red', 'purple', 'blue']\n",
    "while a: #这里不是一个布尔表达式，这里规定，只要while后面不是空，就是True.\n",
    "    print(a)\n",
    "    a.pop() #不输入想删除的元素的位置的话，那么就默认删除最后一个"
   ]
  },
  {
   "cell_type": "code",
   "execution_count": 174,
   "id": "54f1a16a",
   "metadata": {
    "scrolled": true
   },
   "outputs": [
    {
     "name": "stdout",
     "output_type": "stream",
     "text": [
      "['red', 'purple', 'blue', 'purple', 'purple']\n",
      "['red', 'blue', 'purple', 'purple']\n",
      "['red', 'blue', 'purple']\n",
      "['red', 'blue']\n"
     ]
    }
   ],
   "source": [
    "a = ['red', 'purple', 'blue', 'purple', 'purple']\n",
    "while 'purple' in a:  #布尔表达式\n",
    "    print(a)\n",
    "    a.remove('purple')   #除掉某个字符串\n",
    "print(a)"
   ]
  },
  {
   "cell_type": "markdown",
   "id": "7d8c69b8",
   "metadata": {},
   "source": [
    "for语句与while语句不同，"
   ]
  },
  {
   "cell_type": "code",
   "execution_count": 94,
   "id": "7e85ae9d",
   "metadata": {},
   "outputs": [
    {
     "name": "stdout",
     "output_type": "stream",
     "text": [
      "H\n",
      "C\n",
      "N\n"
     ]
    }
   ],
   "source": [
    "molecule = ['H', 'C', 'N']\n",
    "for ele in molecule:   #对每一个元素分别赋值给ele，相当于枚举里面所有元素\n",
    "    print(ele)"
   ]
  },
  {
   "cell_type": "code",
   "execution_count": 96,
   "id": "13c2af61",
   "metadata": {},
   "outputs": [
    {
     "name": "stdout",
     "output_type": "stream",
     "text": [
      "0 H\n",
      "1 C\n",
      "2 N\n"
     ]
    }
   ],
   "source": [
    "for i, ele in enumerate(molecule): #enumerate这个功能使molecule每次循环返回两个值i,ele。第一个为索引，另一个为元素\n",
    "    print(i, ele)"
   ]
  },
  {
   "cell_type": "code",
   "execution_count": 97,
   "id": "da6253bf",
   "metadata": {},
   "outputs": [
    {
     "name": "stdout",
     "output_type": "stream",
     "text": [
      "0 C\n",
      "1 H\n",
      "2 3\n"
     ]
    }
   ],
   "source": [
    "mole = 'CH3COOH'\n",
    "for i, j in enumerate(mole):\n",
    "    if(i == 3):\n",
    "        break    #跳出整个循环，后面的不再执行\n",
    "    print(i, j)"
   ]
  },
  {
   "cell_type": "code",
   "execution_count": 98,
   "id": "9a5c60e5",
   "metadata": {},
   "outputs": [
    {
     "name": "stdout",
     "output_type": "stream",
     "text": [
      "0 C\n",
      "1 H\n",
      "2 3\n",
      "4 O\n",
      "5 O\n",
      "6 H\n"
     ]
    }
   ],
   "source": [
    "mole = 'CH3COOH'\n",
    "for i, j in enumerate(mole):\n",
    "    if(i == 3):\n",
    "        continue  #跳过索引为3的，不输出\n",
    "    print(i, j)"
   ]
  },
  {
   "cell_type": "code",
   "execution_count": 97,
   "id": "1cc2c8f6",
   "metadata": {},
   "outputs": [
    {
     "name": "stdout",
     "output_type": "stream",
     "text": [
      "3\n",
      "0 red\n",
      "1 purple\n",
      "2 blue\n"
     ]
    }
   ],
   "source": [
    "a = ['red', 'purple', 'blue']\n",
    "print(len(a))\n",
    "for i in range(len(a)): #range(len(a))等于创建了一个长度为3的列表[0, 1, 2]\n",
    "    print(i, a[i]) "
   ]
  },
  {
   "cell_type": "code",
   "execution_count": 1,
   "id": "9fd22b73",
   "metadata": {},
   "outputs": [
    {
     "name": "stdout",
     "output_type": "stream",
     "text": [
      "*\n",
      "**\n",
      "***\n",
      "****\n",
      "*****\n",
      "****\n",
      "***\n",
      "**\n",
      "*\n"
     ]
    }
   ],
   "source": [
    "a = '*'\n",
    "for i in range(9):\n",
    "    if i<5:\n",
    "        print(a*(i+1))\n",
    "    else:\n",
    "        print(a*(9-i))"
   ]
  },
  {
   "cell_type": "code",
   "execution_count": 122,
   "id": "7c906d63",
   "metadata": {},
   "outputs": [
    {
     "name": "stdout",
     "output_type": "stream",
     "text": [
      "*\n",
      "**\n",
      "***\n",
      "****\n",
      "*****\n",
      "****\n",
      "***\n",
      "**\n",
      "*\n"
     ]
    }
   ],
   "source": [
    "for i in range(9):\n",
    "    if(i < 5):\n",
    "        print('*' * (i+1))\n",
    "    else:\n",
    "        print('*' * (9-i))"
   ]
  },
  {
   "cell_type": "code",
   "execution_count": 123,
   "id": "d16f7362",
   "metadata": {},
   "outputs": [
    {
     "name": "stdout",
     "output_type": "stream",
     "text": [
      "is liquid\n"
     ]
    }
   ],
   "source": [
    "temp = 25\n",
    "if(temp > 100):\n",
    "    print('is gas')\n",
    "elif(temp > 0):             #顶格写，表明其与前面的if属于同一级别的循环语句。\n",
    "    print('is liquid')\n",
    "else:\n",
    "    print('is solid')"
   ]
  },
  {
   "cell_type": "code",
   "execution_count": 138,
   "id": "e578a0d3",
   "metadata": {
    "scrolled": true
   },
   "outputs": [],
   "source": [
    "def phase(temp):  #在此定义函数\n",
    "    a = 1\n",
    "    if(temp > 100):\n",
    "        print('is gas')\n",
    "    elif(temp > 0):             #顶格写，表明其与前面的if属于同一级别的循环语句。\n",
    "        print('is liquid')\n",
    "    else:\n",
    "        print('is solid')\n",
    "    return a"
   ]
  },
  {
   "cell_type": "code",
   "execution_count": 133,
   "id": "6fd1ded1",
   "metadata": {},
   "outputs": [
    {
     "name": "stdout",
     "output_type": "stream",
     "text": [
      "is gas\n",
      "1\n"
     ]
    }
   ],
   "source": [
    "value = phase(125)  #先运行phase，因此会先输出‘is gas' 这个输出，随后phase由于会返回一个值出来，因此最后1会赋值给value，最后1被输出出来\n",
    "print(value)"
   ]
  },
  {
   "cell_type": "code",
   "execution_count": 139,
   "id": "51ab4c02",
   "metadata": {},
   "outputs": [
    {
     "name": "stdout",
     "output_type": "stream",
     "text": [
      "is liquid\n"
     ]
    },
    {
     "data": {
      "text/plain": [
       "1"
      ]
     },
     "execution_count": 139,
     "metadata": {},
     "output_type": "execute_result"
    }
   ],
   "source": [
    "t = 40\n",
    "phase(t)"
   ]
  },
  {
   "cell_type": "code",
   "execution_count": 137,
   "id": "c551e4d8",
   "metadata": {},
   "outputs": [
    {
     "name": "stdout",
     "output_type": "stream",
     "text": [
      "0\n",
      "0\n",
      "1\n",
      "0\n"
     ]
    }
   ],
   "source": [
    " def fun(a):\n",
    "        print(a)\n",
    "        a += 1\n",
    "        print(a)\n",
    "        \n",
    "a = 0\n",
    "print (a)\n",
    "fun(a)\n",
    "print(a)   #最后一个a不受函数内的变换的影响，不可更改的类型包括：字符串，整数，浮点数"
   ]
  },
  {
   "cell_type": "code",
   "execution_count": 145,
   "id": "6a18f51e",
   "metadata": {},
   "outputs": [
    {
     "name": "stdout",
     "output_type": "stream",
     "text": [
      "[525, 566, 573]\n",
      "[525, 566, 573, '23bv']\n"
     ]
    }
   ],
   "source": [
    "def fun2(a):\n",
    "    a.append('23bv')   #列表一般是可更改的，因此，这个与上面是有区别的\n",
    "                       #函数编写后面必须空一行\n",
    "b = [525, 566, 573]  \n",
    "print(b)\n",
    "fun2(b)\n",
    "print(b)"
   ]
  },
  {
   "cell_type": "code",
   "execution_count": 138,
   "id": "0e15996b",
   "metadata": {},
   "outputs": [
    {
     "name": "stdout",
     "output_type": "stream",
     "text": [
      "2084817488560\n",
      "python\n",
      "2084877150512\n",
      "PYTHON\n"
     ]
    }
   ],
   "source": [
    " a = 'python'\n",
    "print(id(a))\n",
    "print(a)\n",
    "a = a.upper()   #将a存储到新的内存地址上了\n",
    "print(id(a))\n",
    "print(a)\n"
   ]
  },
  {
   "cell_type": "code",
   "execution_count": 140,
   "id": "3fd668a0",
   "metadata": {},
   "outputs": [
    {
     "name": "stdout",
     "output_type": "stream",
     "text": [
      "[1, 2, 3]\n",
      "2084878728320\n",
      "[1, 2, 3, 4]\n",
      "2084878728320\n"
     ]
    }
   ],
   "source": [
    "list1 = [1, 2, 3]\n",
    "print(list1)\n",
    "print(id(list1))\n",
    "\n",
    "list1.append(4)\n",
    "print(list1)\n",
    "print(id(list1))"
   ]
  },
  {
   "cell_type": "code",
   "execution_count": 146,
   "id": "1bc34bcc",
   "metadata": {},
   "outputs": [],
   "source": [
    "def res(n):\n",
    "    return round (((1 / (3*n + 1))**0.5), 2) #保留两位小数"
   ]
  },
  {
   "cell_type": "code",
   "execution_count": 148,
   "id": "70c70a1c",
   "metadata": {},
   "outputs": [
    {
     "data": {
      "text/plain": [
       "0.5"
      ]
     },
     "execution_count": 148,
     "metadata": {},
     "output_type": "execute_result"
    }
   ],
   "source": [
    "res(1)"
   ]
  },
  {
   "cell_type": "code",
   "execution_count": 149,
   "id": "98c6e454",
   "metadata": {},
   "outputs": [
    {
     "data": {
      "text/plain": [
       "0.38"
      ]
     },
     "execution_count": 149,
     "metadata": {},
     "output_type": "execute_result"
    }
   ],
   "source": [
    "res(2)"
   ]
  },
  {
   "cell_type": "code",
   "execution_count": 150,
   "id": "d98f5575",
   "metadata": {},
   "outputs": [
    {
     "data": {
      "text/plain": [
       "0.28"
      ]
     },
     "execution_count": 150,
     "metadata": {},
     "output_type": "execute_result"
    }
   ],
   "source": [
    "res(4)"
   ]
  },
  {
   "cell_type": "code",
   "execution_count": 151,
   "id": "f830fe21",
   "metadata": {},
   "outputs": [
    {
     "data": {
      "text/plain": [
       "0.2"
      ]
     },
     "execution_count": 151,
     "metadata": {},
     "output_type": "execute_result"
    }
   ],
   "source": [
    "res(8)"
   ]
  },
  {
   "cell_type": "code",
   "execution_count": 141,
   "id": "b765acec",
   "metadata": {},
   "outputs": [
    {
     "data": {
      "text/plain": [
       "['a', 'b', 'c']"
      ]
     },
     "execution_count": 141,
     "metadata": {},
     "output_type": "execute_result"
    }
   ],
   "source": [
    "s = 'abc'\n",
    "l1 = list(s)  #字符串改成了列表\n",
    "l1"
   ]
  },
  {
   "cell_type": "code",
   "execution_count": 142,
   "id": "82dc68be",
   "metadata": {},
   "outputs": [
    {
     "data": {
      "text/plain": [
       "'abc'"
      ]
     },
     "execution_count": 142,
     "metadata": {},
     "output_type": "execute_result"
    }
   ],
   "source": [
    "s2 = ''.join(l1)  #创建一个空的字符串，再把l1中的每个字符加进去\n",
    "s2"
   ]
  },
  {
   "cell_type": "code",
   "execution_count": 148,
   "id": "9a83c3b7",
   "metadata": {},
   "outputs": [
    {
     "data": {
      "text/plain": [
       "[0, 0, 0, 0, 0, 0, 0, 0, 0, 0]"
      ]
     },
     "execution_count": 148,
     "metadata": {},
     "output_type": "execute_result"
    }
   ],
   "source": [
    "a = []\n",
    "for i in range(10):\n",
    "    a.append(0)\n",
    "a"
   ]
  },
  {
   "cell_type": "code",
   "execution_count": 179,
   "id": "433ea244",
   "metadata": {},
   "outputs": [
    {
     "name": "stdout",
     "output_type": "stream",
     "text": [
      "0\n",
      "1\n",
      "2\n",
      "3\n",
      "4\n"
     ]
    }
   ],
   "source": [
    "for i in range(5):\n",
    "    print(i)\n",
    "    i = 10"
   ]
  }
 ],
 "metadata": {
  "kernelspec": {
   "display_name": "Python 3",
   "language": "python",
   "name": "python3"
  },
  "language_info": {
   "codemirror_mode": {
    "name": "ipython",
    "version": 3
   },
   "file_extension": ".py",
   "mimetype": "text/x-python",
   "name": "python",
   "nbconvert_exporter": "python",
   "pygments_lexer": "ipython3",
   "version": "3.8.8"
  }
 },
 "nbformat": 4,
 "nbformat_minor": 5
}
